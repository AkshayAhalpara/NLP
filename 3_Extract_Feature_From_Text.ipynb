{
  "nbformat": 4,
  "nbformat_minor": 0,
  "metadata": {
    "colab": {
      "name": "3_Extract Feature From Text.ipynb",
      "provenance": [],
      "collapsed_sections": []
    },
    "kernelspec": {
      "name": "python3",
      "display_name": "Python 3"
    },
    "language_info": {
      "name": "python"
    }
  },
  "cells": [
    {
      "cell_type": "code",
      "metadata": {
        "id": "XQwX-bVsCBr0"
      },
      "source": [
        "import numpy as np\n",
        "import re\n",
        "\n",
        "def tokenize_sentences(sentences):\n",
        "    words = []\n",
        "    for sentence in sentences:\n",
        "        w = extract_words(sentence)\n",
        "        words.extend(w)\n",
        "        \n",
        "    words = sorted(list(set(words)))\n",
        "    return words"
      ],
      "execution_count": 1,
      "outputs": []
    },
    {
      "cell_type": "code",
      "metadata": {
        "id": "OgEcGkp6CqIC"
      },
      "source": [
        "def extract_words(sentence):\n",
        "    ignore_words = ['a']\n",
        "    words = re.sub(\"[^w]\", \" \",  sentence).split() \n",
        "    words_cleaned = [w.lower() for w in words if w not in ignore_words]\n",
        "    return words_cleaned"
      ],
      "execution_count": 3,
      "outputs": []
    },
    {
      "cell_type": "code",
      "metadata": {
        "id": "p_62qL6oC0CF"
      },
      "source": [
        "def bagofwords(sentence, words):\n",
        "    sentence_words = extract_words(sentence)\n",
        "    bag = np.zeros(len(words))\n",
        "    for sw in sentence_words:\n",
        "        for i,word in enumerate(words):\n",
        "            if word == sw: \n",
        "                bag[i] += 1\n",
        "                \n",
        "    return np.array(bag)"
      ],
      "execution_count": 7,
      "outputs": []
    },
    {
      "cell_type": "code",
      "metadata": {
        "id": "VtbzDIQoDDVd"
      },
      "source": [
        "sentences = [\"NLP stands for Natural Language Processing\",\"NLP used for computers communicate with humans in their own language and scales other language-related tasks\",\n",
        " \"NLP used in machine Learning\",\"Natural Language Processing in short NLP\"]"
      ],
      "execution_count": 8,
      "outputs": []
    },
    {
      "cell_type": "code",
      "metadata": {
        "colab": {
          "base_uri": "https://localhost:8080/"
        },
        "id": "UIXQl9GXDygQ",
        "outputId": "a7188291-ffdc-4f60-d914-c04e6f226ca6"
      },
      "source": [
        "vocabulary = tokenize_sentences(sentences)\n",
        "bagofwords(\"NLP is great\", vocabulary)\n",
        "\n",
        "from sklearn.feature_extraction.text import CountVectorizer\n",
        "\n",
        "vectorizer = CountVectorizer(analyzer = \"word\", tokenizer = None, preprocessor = None, stop_words = None, max_features = 5000) \n",
        "\n",
        "train_data_features = vectorizer.fit_transform(sentences)\n",
        "\n",
        "vectorizer.transform([\"NLP stands for Natural Language Processing\",\"NLP used for computers communicate with humans in their own language and scales other language-related tasks\",\n",
        " \"NLP used in machine Learning\",\"Natural Language Processing in short NLP\"]).toarray()"
      ],
      "execution_count": 9,
      "outputs": [
        {
          "output_type": "execute_result",
          "data": {
            "text/plain": [
              "array([[0, 0, 0, 1, 0, 0, 1, 0, 0, 1, 1, 0, 0, 1, 0, 0, 0, 1, 0, 0, 0, 0],\n",
              "       [1, 1, 1, 1, 1, 1, 2, 0, 0, 0, 1, 1, 1, 0, 1, 1, 0, 0, 1, 1, 1, 1],\n",
              "       [0, 0, 0, 0, 0, 1, 0, 1, 1, 0, 1, 0, 0, 0, 0, 0, 0, 0, 0, 0, 1, 0],\n",
              "       [0, 0, 0, 0, 0, 1, 1, 0, 0, 1, 1, 0, 0, 1, 0, 0, 1, 0, 0, 0, 0, 0]])"
            ]
          },
          "metadata": {},
          "execution_count": 9
        }
      ]
    }
  ]
}