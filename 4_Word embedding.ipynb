{
  "nbformat": 4,
  "nbformat_minor": 0,
  "metadata": {
    "colab": {
      "name": "N-Gram Model.ipynb",
      "provenance": [],
      "collapsed_sections": []
    },
    "kernelspec": {
      "name": "python3",
      "display_name": "Python 3"
    },
    "language_info": {
      "name": "python"
    }
  },
  "cells": [
    {
      "cell_type": "code",
      "metadata": {
        "id": "SW5aBqdb_-ry"
      },
      "source": [
        "import re"
      ],
      "execution_count": 1,
      "outputs": []
    },
    {
      "cell_type": "code",
      "metadata": {
        "id": "CbYkwMltAPDd"
      },
      "source": [
        "def N_Grams(text,n): \n",
        "    # sentence are break into tokens\n",
        "    tokens=re.split(\"\\\\s+\",text)\n",
        "    ngrams=[] \n",
        "    # collect the n-grams\n",
        "    for i in range(len(tokens)-n+1):\n",
        "     temp=[tokens[j] for j in range(i,i+n)]\n",
        "     ngrams.append(\" \".join(temp)) \n",
        "    return ngrams"
      ],
      "execution_count": 3,
      "outputs": []
    },
    {
      "cell_type": "code",
      "metadata": {
        "id": "G6DHbbLMBD7c"
      },
      "source": [
        "data=\"Akshay Ashokbhai Ahalpara\""
      ],
      "execution_count": 5,
      "outputs": []
    },
    {
      "cell_type": "code",
      "metadata": {
        "colab": {
          "base_uri": "https://localhost:8080/"
        },
        "id": "5InrDPCCBU75",
        "outputId": "6af4b7bc-3f53-48f7-c6e8-d90bb7c31697"
      },
      "source": [
        "N_Grams(data,1)"
      ],
      "execution_count": 6,
      "outputs": [
        {
          "output_type": "execute_result",
          "data": {
            "text/plain": [
              "['Akshay', 'Ashokbhai', 'Ahalpara']"
            ]
          },
          "metadata": {},
          "execution_count": 6
        }
      ]
    },
    {
      "cell_type": "code",
      "metadata": {
        "id": "-jJzdL7dBZ-0"
      },
      "source": [
        "data=\"Akshay Jay Heli Akshit Akki Amesha Meshwa\""
      ],
      "execution_count": 7,
      "outputs": []
    },
    {
      "cell_type": "code",
      "metadata": {
        "colab": {
          "base_uri": "https://localhost:8080/"
        },
        "id": "1UuuQ6X4Bsn3",
        "outputId": "3a5e1ef1-334c-4895-f24b-36eca220c749"
      },
      "source": [
        "N_Grams(data,4)"
      ],
      "execution_count": 9,
      "outputs": [
        {
          "output_type": "execute_result",
          "data": {
            "text/plain": [
              "['Akshay Jay Heli Akshit',\n",
              " 'Jay Heli Akshit Akki',\n",
              " 'Heli Akshit Akki Amesha',\n",
              " 'Akshit Akki Amesha Meshwa']"
            ]
          },
          "metadata": {},
          "execution_count": 9
        }
      ]
    }
  ]
}